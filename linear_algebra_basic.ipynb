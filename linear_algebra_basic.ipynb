{
  "nbformat": 4,
  "nbformat_minor": 0,
  "metadata": {
    "colab": {
      "name": "Untitled12.ipynb",
      "provenance": [],
      "collapsed_sections": []
    },
    "kernelspec": {
      "name": "python3",
      "display_name": "Python 3"
    },
    "language_info": {
      "name": "python"
    }
  },
  "cells": [
    {
      "cell_type": "code",
      "metadata": {
        "id": "28_IAOo5ARgs"
      },
      "source": [
        "import numpy as np\n",
        "import matplotlib.pyplot as plt"
      ],
      "execution_count": 128,
      "outputs": []
    },
    {
      "cell_type": "markdown",
      "metadata": {
        "id": "CqNNa8noZSAb"
      },
      "source": [
        "자동차 A와 자동차 B가 있다.  \n",
        "자동차 A의 속도는 단위 시간당 4거리를 이동하고  \n",
        "자동차 B는 단위 시간당 5거리를 이동한다고 가정하자.  \n",
        "자동차 B가 10거리 만큼 늦게 출발했다면 둘은 언제 만나게 되는가?"
      ]
    },
    {
      "cell_type": "code",
      "metadata": {
        "colab": {
          "base_uri": "https://localhost:8080/"
        },
        "id": "CX-8AhQMC-b6",
        "outputId": "0869434c-7516-421a-d9cc-5e420309705d"
      },
      "source": [
        "# 파이썬을 이용한 방정식 풀이\n",
        "#3x = 4x-40\n",
        "#0 = x - 40\n",
        "#y = 120\n",
        "\n",
        "from sympy import Symbol, solve\n",
        "x = Symbol('x')\n",
        "y = Symbol('y')\n",
        "equation = x - 40\n",
        "x = solve(equation)[0]\n",
        "print(f\"x값 : {x}\")\n",
        "y = 3 * x\n",
        "print(f\"y값 : {y}\")\n"
      ],
      "execution_count": 129,
      "outputs": [
        {
          "output_type": "stream",
          "text": [
            "x값 : 40\n",
            "y값 : 120\n"
          ],
          "name": "stdout"
        }
      ]
    },
    {
      "cell_type": "code",
      "metadata": {
        "colab": {
          "base_uri": "https://localhost:8080/"
        },
        "id": "pl3oCAJbOlAj",
        "outputId": "f71d8e7f-97ab-4b91-9922-67eaba4c32cb"
      },
      "source": [
        "#0부터 50까지 그 간격을 10개로 나눠서 ndarray로 반환한다.\n",
        "#list는 동적할당, array는 정적할당이다.\n",
        "#numpy는 벡터화하여 계산하기 때문에 루프나, 인덱싱이 없다.\n",
        "#사전에 C 코드로 작성된 코드로 의해 동작하므로 list보다 빠르고 정확하다.\n",
        "x = np.linspace(0, 50, 10)\n",
        "print(x)\n",
        "\n",
        "#10개로 나누던 1000개로 나누던 큰 차이는 없었다."
      ],
      "execution_count": 130,
      "outputs": [
        {
          "output_type": "stream",
          "text": [
            "[ 0.          5.55555556 11.11111111 16.66666667 22.22222222 27.77777778\n",
            " 33.33333333 38.88888889 44.44444444 50.        ]\n"
          ],
          "name": "stdout"
        }
      ]
    },
    {
      "cell_type": "code",
      "metadata": {
        "colab": {
          "base_uri": "https://localhost:8080/"
        },
        "id": "ieWQL2rXDOeA",
        "outputId": "73843f4d-6068-4505-a69c-5ace6044fdd3"
      },
      "source": [
        "car_A = 3 * x\n",
        "print(car_A)"
      ],
      "execution_count": 131,
      "outputs": [
        {
          "output_type": "stream",
          "text": [
            "[  0.          16.66666667  33.33333333  50.          66.66666667\n",
            "  83.33333333 100.         116.66666667 133.33333333 150.        ]\n"
          ],
          "name": "stdout"
        }
      ]
    },
    {
      "cell_type": "code",
      "metadata": {
        "colab": {
          "base_uri": "https://localhost:8080/"
        },
        "id": "AQaCuTzIDNmp",
        "outputId": "339b3d51-681c-4bdf-9bb0-b40736e6fa59"
      },
      "source": [
        "car_B = 4 * (x - 10)\n",
        "print(car_B)"
      ],
      "execution_count": 132,
      "outputs": [
        {
          "output_type": "stream",
          "text": [
            "[-40.         -17.77777778   4.44444444  26.66666667  48.88888889\n",
            "  71.11111111  93.33333333 115.55555556 137.77777778 160.        ]\n"
          ],
          "name": "stdout"
        }
      ]
    },
    {
      "cell_type": "code",
      "metadata": {
        "colab": {
          "base_uri": "https://localhost:8080/",
          "height": 313
        },
        "id": "1Bm_Ri0nDNsP",
        "outputId": "610bddc6-3846-4fb5-d8b9-e40bde149131"
      },
      "source": [
        "fig, ax = plt.subplots()\n",
        "#타이틀과 축의 라벨설정입니다.\n",
        "plt.title('when two cars meet?')\n",
        "plt.xlabel('time')\n",
        "plt.ylabel('distance')\n",
        "#x축 설정입니다.\n",
        "ax.set_xlim([0, 50])\n",
        "#y축 설정입니다.\n",
        "ax.set_ylim([0, 150])\n",
        "#차 A와 B의 그래프 입니다.\n",
        "ax.plot(x, car_A, c='red')\n",
        "ax.plot(x, car_B, c='blue')\n",
        "#점선라인입니다.\n",
        "plt.axvline(x=40, color='purple', linestyle='--')\n",
        "plt.axhline(y=120, color='purple', linestyle='--')"
      ],
      "execution_count": 133,
      "outputs": [
        {
          "output_type": "execute_result",
          "data": {
            "text/plain": [
              "<matplotlib.lines.Line2D at 0x7f8ae66fc9d0>"
            ]
          },
          "metadata": {
            "tags": []
          },
          "execution_count": 133
        },
        {
          "output_type": "display_data",
          "data": {
            "image/png": "[encoded data removed]",
            "text/plain": [
              "<Figure size 432x288 with 1 Axes>"
            ]
          },
          "metadata": {
            "tags": [],
            "needs_background": "light"
          }
        }
      ]
    }
  ]
}